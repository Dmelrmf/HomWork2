{
 "cells": [
  {
   "cell_type": "code",
   "execution_count": 6,
   "id": "c3713634",
   "metadata": {},
   "outputs": [
    {
     "name": "stdout",
     "output_type": "stream",
     "text": [
      "Идеальные пары:\n",
      "Alex и Emma\n",
      "Arthur и Kate\n",
      "John и Kira\n",
      "Peter и Liza\n",
      "Richard и Trisha\n"
     ]
    }
   ],
   "source": [
    "boys = ['Peter', 'Alex', 'John', 'Arthur', 'Richard'] \n",
    "girls = ['Kate', 'Liza', 'Kira', 'Emma', 'Trisha']\n",
    "i = 0\n",
    "if len(boys) != len(girls):\n",
    "    print('Внимание, кто-то может остаться без пары!')\n",
    "else:\n",
    "    sortedlist_boys = sorted(boys)\n",
    "    sortedlist_girls = sorted(girls)\n",
    "    print('Идеальные пары:')\n",
    "    while i < len(sortedlist_boys):\n",
    "        print(sortedlist_boys[i],'и',sortedlist_girls[i])\n",
    "        i=i+1"
   ]
  },
  {
   "cell_type": "code",
   "execution_count": null,
   "id": "37e870e4",
   "metadata": {},
   "outputs": [],
   "source": []
  }
 ],
 "metadata": {
  "kernelspec": {
   "display_name": "Python 3 (ipykernel)",
   "language": "python",
   "name": "python3"
  },
  "language_info": {
   "codemirror_mode": {
    "name": "ipython",
    "version": 3
   },
   "file_extension": ".py",
   "mimetype": "text/x-python",
   "name": "python",
   "nbconvert_exporter": "python",
   "pygments_lexer": "ipython3",
   "version": "3.9.12"
  }
 },
 "nbformat": 4,
 "nbformat_minor": 5
}
